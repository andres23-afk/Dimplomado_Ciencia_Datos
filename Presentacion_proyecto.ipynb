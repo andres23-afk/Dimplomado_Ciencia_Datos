{
  "nbformat": 4,
  "nbformat_minor": 0,
  "metadata": {
    "colab": {
      "provenance": [],
      "authorship_tag": "ABX9TyMH9Yro8lR++KYEdw8I8wgF",
      "include_colab_link": true
    },
    "kernelspec": {
      "name": "python3",
      "display_name": "Python 3"
    },
    "language_info": {
      "name": "python"
    }
  },
  "cells": [
    {
      "cell_type": "markdown",
      "metadata": {
        "id": "view-in-github",
        "colab_type": "text"
      },
      "source": [
        "<a href=\"https://colab.research.google.com/github/andres23-afk/Dimplomado_Ciencia_Datos/blob/main/Presentacion_proyecto.ipynb\" target=\"_parent\"><img src=\"https://colab.research.google.com/assets/colab-badge.svg\" alt=\"Open In Colab\"/></a>"
      ]
    },
    {
      "cell_type": "markdown",
      "source": [
        "#PROYECTO INTELIGENCIA ARTIFICIAL\n",
        "\n",
        "##FlipFeed\n",
        "\n",
        "###INTEGRANTES:\n",
        "\n",
        "*   Frank Stiven Medina Lozano\n",
        "*   Juan Andrés Godoy Reyes\n",
        "\n",
        "###OBJETIVOS:\n",
        "\n",
        "1.   Reconocimiento de comandos de voz\n",
        "2.   Identificar los movimientos de un objeto físico a través de un video\n",
        "3.   Verificar la efectividad realizada en la acrobacia\n",
        "\n",
        "###PROBLEMAS:\n",
        "\n",
        "1.   Crear el Dataset de entrenamiento\n",
        "2.   Establecer puntos de referencia a los objetos para detección de movimiento\n",
        "3.   Entrenamiento asíncrono con los usuarios\n",
        "4.   Compatibilidad de varios formatos de video\n",
        "5.   Atenuar el limitante por calidad de video\n",
        "6.   Hardware adecuado para el entrenamiento\n",
        "\n",
        "###DATOS DISPONIBLES:\n",
        "\n",
        "Contenido audiovisual de diferentes plataformas (como instagram, youtube, facebook, etc), librerias relacionadas al análisis de datos y definición de las acrobacias en la web"
      ],
      "metadata": {
        "id": "-ZLPJbRUI0ej"
      }
    }
  ]
}